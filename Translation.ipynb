{
 "cells": [
  {
   "cell_type": "code",
   "execution_count": 1,
   "metadata": {},
   "outputs": [
    {
     "name": "stderr",
     "output_type": "stream",
     "text": [
      "C:\\Users\\Anton_Glushkov\\AppData\\Local\\Continuum\\anaconda3\\lib\\site-packages\\h5py\\__init__.py:34: FutureWarning: Conversion of the second argument of issubdtype from `float` to `np.floating` is deprecated. In future, it will be treated as `np.float64 == np.dtype(float).type`.\n",
      "  from ._conv import register_converters as _register_converters\n",
      "Using TensorFlow backend.\n",
      "C:\\Users\\Anton_Glushkov\\AppData\\Local\\Continuum\\anaconda3\\lib\\site-packages\\tensorflow\\python\\framework\\dtypes.py:516: FutureWarning: Passing (type, 1) or '1type' as a synonym of type is deprecated; in a future version of numpy, it will be understood as (type, (1,)) / '(1,)type'.\n",
      "  _np_qint8 = np.dtype([(\"qint8\", np.int8, 1)])\n",
      "C:\\Users\\Anton_Glushkov\\AppData\\Local\\Continuum\\anaconda3\\lib\\site-packages\\tensorflow\\python\\framework\\dtypes.py:517: FutureWarning: Passing (type, 1) or '1type' as a synonym of type is deprecated; in a future version of numpy, it will be understood as (type, (1,)) / '(1,)type'.\n",
      "  _np_quint8 = np.dtype([(\"quint8\", np.uint8, 1)])\n",
      "C:\\Users\\Anton_Glushkov\\AppData\\Local\\Continuum\\anaconda3\\lib\\site-packages\\tensorflow\\python\\framework\\dtypes.py:518: FutureWarning: Passing (type, 1) or '1type' as a synonym of type is deprecated; in a future version of numpy, it will be understood as (type, (1,)) / '(1,)type'.\n",
      "  _np_qint16 = np.dtype([(\"qint16\", np.int16, 1)])\n",
      "C:\\Users\\Anton_Glushkov\\AppData\\Local\\Continuum\\anaconda3\\lib\\site-packages\\tensorflow\\python\\framework\\dtypes.py:519: FutureWarning: Passing (type, 1) or '1type' as a synonym of type is deprecated; in a future version of numpy, it will be understood as (type, (1,)) / '(1,)type'.\n",
      "  _np_quint16 = np.dtype([(\"quint16\", np.uint16, 1)])\n",
      "C:\\Users\\Anton_Glushkov\\AppData\\Local\\Continuum\\anaconda3\\lib\\site-packages\\tensorflow\\python\\framework\\dtypes.py:520: FutureWarning: Passing (type, 1) or '1type' as a synonym of type is deprecated; in a future version of numpy, it will be understood as (type, (1,)) / '(1,)type'.\n",
      "  _np_qint32 = np.dtype([(\"qint32\", np.int32, 1)])\n",
      "C:\\Users\\Anton_Glushkov\\AppData\\Local\\Continuum\\anaconda3\\lib\\site-packages\\tensorflow\\python\\framework\\dtypes.py:525: FutureWarning: Passing (type, 1) or '1type' as a synonym of type is deprecated; in a future version of numpy, it will be understood as (type, (1,)) / '(1,)type'.\n",
      "  np_resource = np.dtype([(\"resource\", np.ubyte, 1)])\n",
      "C:\\Users\\Anton_Glushkov\\AppData\\Local\\Continuum\\anaconda3\\lib\\site-packages\\tensorboard\\compat\\tensorflow_stub\\dtypes.py:541: FutureWarning: Passing (type, 1) or '1type' as a synonym of type is deprecated; in a future version of numpy, it will be understood as (type, (1,)) / '(1,)type'.\n",
      "  _np_qint8 = np.dtype([(\"qint8\", np.int8, 1)])\n",
      "C:\\Users\\Anton_Glushkov\\AppData\\Local\\Continuum\\anaconda3\\lib\\site-packages\\tensorboard\\compat\\tensorflow_stub\\dtypes.py:542: FutureWarning: Passing (type, 1) or '1type' as a synonym of type is deprecated; in a future version of numpy, it will be understood as (type, (1,)) / '(1,)type'.\n",
      "  _np_quint8 = np.dtype([(\"quint8\", np.uint8, 1)])\n",
      "C:\\Users\\Anton_Glushkov\\AppData\\Local\\Continuum\\anaconda3\\lib\\site-packages\\tensorboard\\compat\\tensorflow_stub\\dtypes.py:543: FutureWarning: Passing (type, 1) or '1type' as a synonym of type is deprecated; in a future version of numpy, it will be understood as (type, (1,)) / '(1,)type'.\n",
      "  _np_qint16 = np.dtype([(\"qint16\", np.int16, 1)])\n",
      "C:\\Users\\Anton_Glushkov\\AppData\\Local\\Continuum\\anaconda3\\lib\\site-packages\\tensorboard\\compat\\tensorflow_stub\\dtypes.py:544: FutureWarning: Passing (type, 1) or '1type' as a synonym of type is deprecated; in a future version of numpy, it will be understood as (type, (1,)) / '(1,)type'.\n",
      "  _np_quint16 = np.dtype([(\"quint16\", np.uint16, 1)])\n",
      "C:\\Users\\Anton_Glushkov\\AppData\\Local\\Continuum\\anaconda3\\lib\\site-packages\\tensorboard\\compat\\tensorflow_stub\\dtypes.py:545: FutureWarning: Passing (type, 1) or '1type' as a synonym of type is deprecated; in a future version of numpy, it will be understood as (type, (1,)) / '(1,)type'.\n",
      "  _np_qint32 = np.dtype([(\"qint32\", np.int32, 1)])\n",
      "C:\\Users\\Anton_Glushkov\\AppData\\Local\\Continuum\\anaconda3\\lib\\site-packages\\tensorboard\\compat\\tensorflow_stub\\dtypes.py:550: FutureWarning: Passing (type, 1) or '1type' as a synonym of type is deprecated; in a future version of numpy, it will be understood as (type, (1,)) / '(1,)type'.\n",
      "  np_resource = np.dtype([(\"resource\", np.ubyte, 1)])\n"
     ]
    },
    {
     "name": "stdout",
     "output_type": "stream",
     "text": [
      "[nltk_data] Downloading package punkt to\n",
      "[nltk_data]     C:\\Users\\Anton_Glushkov\\AppData\\Roaming\\nltk_data...\n",
      "[nltk_data]   Package punkt is already up-to-date!\n"
     ]
    },
    {
     "data": {
      "text/plain": [
       "True"
      ]
     },
     "execution_count": 1,
     "metadata": {},
     "output_type": "execute_result"
    }
   ],
   "source": [
    "import string\n",
    "import os.path\n",
    "from numpy import array\n",
    "import pandas as pd\n",
    "import matplotlib.pyplot as plt\n",
    "import nltk\n",
    "from keras.models import Sequential\n",
    "from keras.layers import Dense, LSTM, Embedding, RepeatVector\n",
    "from keras.preprocessing.text import Tokenizer\n",
    "from keras.callbacks import ModelCheckpoint\n",
    "from keras.preprocessing.sequence import pad_sequences\n",
    "from keras.models import load_model\n",
    "from keras import optimizers\n",
    "from sklearn.model_selection import train_test_split\n",
    "%matplotlib inline\n",
    "pd.set_option('display.max_colwidth', 200)\n",
    "nltk.download('punkt')"
   ]
  },
  {
   "cell_type": "markdown",
   "metadata": {},
   "source": [
    "# Configs"
   ]
  },
  {
   "cell_type": "code",
   "execution_count": 2,
   "metadata": {
    "collapsed": true
   },
   "outputs": [],
   "source": [
    "NEED_TRAIN = True\n",
    "NEED_TRAIN_RU = True\n",
    "DATASET_FILENAME = 'result.txt'\n",
    "EPOCHS = 2\n",
    "FILENAME = \"model.fi_ru_11_oct_19_RC1\"\n",
    "FILENAME_RU = \"model.ru_fi_28_oct\""
   ]
  },
  {
   "cell_type": "markdown",
   "metadata": {},
   "source": [
    "# Loading data"
   ]
  },
  {
   "cell_type": "code",
   "execution_count": 3,
   "metadata": {
    "collapsed": true
   },
   "outputs": [],
   "source": [
    "def read_file(filename):\n",
    "    with open(filename, mode='rt', encoding='utf-8') as file:\n",
    "        content = file.read()\n",
    "        return content"
   ]
  },
  {
   "cell_type": "code",
   "execution_count": 4,
   "metadata": {
    "collapsed": true
   },
   "outputs": [],
   "source": [
    "def parse_content(content):\n",
    "    lines = content.strip().split('\\n')\n",
    "    lines = [i.split('\\t') for i in lines]\n",
    "    return lines"
   ]
  },
  {
   "cell_type": "code",
   "execution_count": 5,
   "metadata": {
    "collapsed": true
   },
   "outputs": [],
   "source": [
    "fi_ru = array(parse_content(read_file(DATASET_FILENAME)))"
   ]
  },
  {
   "cell_type": "code",
   "execution_count": 6,
   "metadata": {},
   "outputs": [
    {
     "data": {
      "text/plain": [
       "array([['Mene.', 'Марш!'],\n",
       "       ['Mene.', 'Иди.'],\n",
       "       ['Mene.', 'Идите.'],\n",
       "       ...,\n",
       "       ['Tom sanoi: \"Voit suudella tyttöystävääsi hyvästiksi, jos et suutele häntä hyvästiksi\", mikä tarkoitti \"Jos et suutele tyttöystävääsi hyvästiksi, niin et näe häntä enää koskaan\".',\n",
       "        '«Можешь попрощаться со своей подружкой, если ты с ней не попрощаешься», — сказал Том, что означало «если ты не попрощаешься со своей подружкой, то больше ты её никогда не увидишь».'],\n",
       "       ['Nykypäivän maailmassa meidän täytyy varustaa kaikki lapsemme koulutuksella, joka valmistelee heidän menestykseen, riippumatta siitä, miltä he näyttävät, kuinka paljon heidän vanhempansa tienaavat tai millä postinumeroalueella he asuvat.',\n",
       "        'В современном мире перед нами стоит задача дать всем нашим детям такое образование, которое настроит их на успех вне зависимости от того, как они выглядят, сколько зарабатывают их родители или какой у них почтовый индекс.'],\n",
       "       ['Tällä hetkellä kun taloutemme on kasvussa, yrityksemme luovat työpaikkoja nopeimpaan tahtiin sitten 1990-luvun ja palkat ovat taas lähdössä nousuun, meidän täytyy tehdä valintoja siitä, millainen maa me haluamme olla.',\n",
       "        'В тот момент, когда наша экономика растёт, наши предприятия создают рабочие места наибольшими темпами, начиная с 90-х годов, а зарплаты снова начинают расти, мы должны принять ряд решений относительно того, какой страной мы хотим быть.']],\n",
       "      dtype='<U236')"
      ]
     },
     "execution_count": 6,
     "metadata": {},
     "output_type": "execute_result"
    }
   ],
   "source": [
    "fi_ru"
   ]
  },
  {
   "cell_type": "markdown",
   "metadata": {},
   "source": [
    "# Content pre-processing"
   ]
  },
  {
   "cell_type": "code",
   "execution_count": 7,
   "metadata": {
    "collapsed": true
   },
   "outputs": [],
   "source": [
    "def remove_punctuations(dataset):\n",
    "    dataset[:,0] = [s.translate(str.maketrans('', '', string.punctuation)) for s in dataset[:,0]]\n",
    "    dataset[:,1] = [s.translate(str.maketrans('', '', string.punctuation)) for s in dataset[:,1]]\n",
    "    return dataset"
   ]
  },
  {
   "cell_type": "code",
   "execution_count": 8,
   "metadata": {
    "collapsed": true
   },
   "outputs": [],
   "source": [
    "def to_lower_case(dataset):\n",
    "    for i in range(len(dataset)): \n",
    "        dataset[i,0] = dataset[i,0].lower() \n",
    "        dataset[i,1] = dataset[i,1].lower()\n",
    "    return dataset"
   ]
  },
  {
   "cell_type": "code",
   "execution_count": 9,
   "metadata": {
    "collapsed": true
   },
   "outputs": [],
   "source": [
    "def pre_process(dataset):\n",
    "    without_punctuations = remove_punctuations(dataset)\n",
    "    return to_lower_case(without_punctuations)"
   ]
  },
  {
   "cell_type": "code",
   "execution_count": 10,
   "metadata": {},
   "outputs": [
    {
     "data": {
      "text/plain": [
       "array([['mene', 'марш'],\n",
       "       ['mene', 'иди'],\n",
       "       ['mene', 'идите'],\n",
       "       ...,\n",
       "       ['tom sanoi voit suudella tyttöystävääsi hyvästiksi jos et suutele häntä hyvästiksi mikä tarkoitti jos et suutele tyttöystävääsi hyvästiksi niin et näe häntä enää koskaan',\n",
       "        '«можешь попрощаться со своей подружкой если ты с ней не попрощаешься» — сказал том что означало «если ты не попрощаешься со своей подружкой то больше ты её никогда не увидишь»'],\n",
       "       ['nykypäivän maailmassa meidän täytyy varustaa kaikki lapsemme koulutuksella joka valmistelee heidän menestykseen riippumatta siitä miltä he näyttävät kuinka paljon heidän vanhempansa tienaavat tai millä postinumeroalueella he asuvat',\n",
       "        'в современном мире перед нами стоит задача дать всем нашим детям такое образование которое настроит их на успех вне зависимости от того как они выглядят сколько зарабатывают их родители или какой у них почтовый индекс'],\n",
       "       ['tällä hetkellä kun taloutemme on kasvussa yrityksemme luovat työpaikkoja nopeimpaan tahtiin sitten 1990luvun ja palkat ovat taas lähdössä nousuun meidän täytyy tehdä valintoja siitä millainen maa me haluamme olla',\n",
       "        'в тот момент когда наша экономика растёт наши предприятия создают рабочие места наибольшими темпами начиная с 90х годов а зарплаты снова начинают расти мы должны принять ряд решений относительно того какой страной мы хотим быть']],\n",
       "      dtype='<U236')"
      ]
     },
     "execution_count": 10,
     "metadata": {},
     "output_type": "execute_result"
    }
   ],
   "source": [
    "processed_fi_ru = pre_process(fi_ru)\n",
    "processed_fi_ru"
   ]
  },
  {
   "cell_type": "code",
   "execution_count": 11,
   "metadata": {},
   "outputs": [
    {
     "data": {
      "text/plain": [
       "array(['марш', 'иди', 'идите', ...,\n",
       "       '«можешь попрощаться со своей подружкой если ты с ней не попрощаешься» — сказал том что означало «если ты не попрощаешься со своей подружкой то больше ты её никогда не увидишь»',\n",
       "       'в современном мире перед нами стоит задача дать всем нашим детям такое образование которое настроит их на успех вне зависимости от того как они выглядят сколько зарабатывают их родители или какой у них почтовый индекс',\n",
       "       'в тот момент когда наша экономика растёт наши предприятия создают рабочие места наибольшими темпами начиная с 90х годов а зарплаты снова начинают расти мы должны принять ряд решений относительно того какой страной мы хотим быть'],\n",
       "      dtype='<U236')"
      ]
     },
     "execution_count": 11,
     "metadata": {},
     "output_type": "execute_result"
    }
   ],
   "source": [
    "ru_sentences = processed_fi_ru[:,1]\n",
    "ru_sentences"
   ]
  },
  {
   "cell_type": "code",
   "execution_count": 12,
   "metadata": {},
   "outputs": [
    {
     "data": {
      "text/plain": [
       "array(['mene', 'mene', 'mene', ...,\n",
       "       'tom sanoi voit suudella tyttöystävääsi hyvästiksi jos et suutele häntä hyvästiksi mikä tarkoitti jos et suutele tyttöystävääsi hyvästiksi niin et näe häntä enää koskaan',\n",
       "       'nykypäivän maailmassa meidän täytyy varustaa kaikki lapsemme koulutuksella joka valmistelee heidän menestykseen riippumatta siitä miltä he näyttävät kuinka paljon heidän vanhempansa tienaavat tai millä postinumeroalueella he asuvat',\n",
       "       'tällä hetkellä kun taloutemme on kasvussa yrityksemme luovat työpaikkoja nopeimpaan tahtiin sitten 1990luvun ja palkat ovat taas lähdössä nousuun meidän täytyy tehdä valintoja siitä millainen maa me haluamme olla'],\n",
       "      dtype='<U236')"
      ]
     },
     "execution_count": 12,
     "metadata": {},
     "output_type": "execute_result"
    }
   ],
   "source": [
    "fi_sentences = processed_fi_ru[:,0]\n",
    "fi_sentences"
   ]
  },
  {
   "cell_type": "markdown",
   "metadata": {},
   "source": [
    "# Tokenizers"
   ]
  },
  {
   "cell_type": "markdown",
   "metadata": {},
   "source": [
    "### Populate the lists with sentence lengths "
   ]
  },
  {
   "cell_type": "code",
   "execution_count": 13,
   "metadata": {
    "collapsed": true
   },
   "outputs": [],
   "source": [
    "def get_words(sentence):\n",
    "    return nltk.word_tokenize(sentence)"
   ]
  },
  {
   "cell_type": "code",
   "execution_count": 14,
   "metadata": {},
   "outputs": [
    {
     "data": {
      "image/png": "[encoded data removed]",
      "text/plain": [
       "<matplotlib.figure.Figure at 0x20ed5c10320>"
      ]
     },
     "metadata": {},
     "output_type": "display_data"
    }
   ],
   "source": [
    "ru_l = [len(get_words(i)) for i in ru_sentences]\n",
    "fi_l = [len(get_words(i)) for i in fi_sentences]\n",
    "        \n",
    "length_df = pd.DataFrame({'ru':ru_l, 'fi':fi_l}) \n",
    "length_df.hist(bins = 30) \n",
    "plt.show()"
   ]
  },
  {
   "cell_type": "code",
   "execution_count": 15,
   "metadata": {
    "collapsed": true
   },
   "outputs": [],
   "source": [
    "def tokenization(lines): \n",
    "    tokenizer = Tokenizer()\n",
    "    tokenizer.fit_on_texts(lines)\n",
    "    return tokenizer"
   ]
  },
  {
   "cell_type": "markdown",
   "metadata": {},
   "source": [
    "### Prepare tokenizers"
   ]
  },
  {
   "cell_type": "code",
   "execution_count": 16,
   "metadata": {},
   "outputs": [
    {
     "data": {
      "text/plain": [
       "35"
      ]
     },
     "execution_count": 16,
     "metadata": {},
     "output_type": "execute_result"
    }
   ],
   "source": [
    "ru_tokenizer = tokenization(ru_sentences)\n",
    "ru_vocab_size = len(ru_tokenizer.word_index) + 1\n",
    "ru_length = max(ru_l)\n",
    "ru_length"
   ]
  },
  {
   "cell_type": "code",
   "execution_count": 17,
   "metadata": {},
   "outputs": [
    {
     "data": {
      "text/plain": [
       "29"
      ]
     },
     "execution_count": 17,
     "metadata": {},
     "output_type": "execute_result"
    }
   ],
   "source": [
    "fi_tokenizer = tokenization(fi_sentences)\n",
    "fi_vocab_size = len(fi_tokenizer.word_index) + 1\n",
    "fi_length = max(fi_l)\n",
    "fi_length"
   ]
  },
  {
   "cell_type": "code",
   "execution_count": 18,
   "metadata": {
    "collapsed": true
   },
   "outputs": [],
   "source": [
    "def encode_sequences(tokenizer, length, lines):          \n",
    "    # integer encode sequences\n",
    "    seq = tokenizer.texts_to_sequences(lines)      \n",
    "    # pad sequences with 0 values\n",
    "    seq = pad_sequences(seq, maxlen=length, padding='post')        \n",
    "    return seq"
   ]
  },
  {
   "cell_type": "markdown",
   "metadata": {},
   "source": [
    "# FI - RU Model"
   ]
  },
  {
   "cell_type": "code",
   "execution_count": 19,
   "metadata": {},
   "outputs": [
    {
     "data": {
      "text/plain": [
       "array([['sanoiko tomi tekevänsä sen',\n",
       "        'том сказал что собирается сделать это'],\n",
       "       ['en ole nähnyt sinua aikoihin', 'я вас сто лет не видел'],\n",
       "       ['meidän jääkaappimme on rikki', 'у нас холодильник сломался'],\n",
       "       ...,\n",
       "       ['tom tykkää ranskan opiskelusta',\n",
       "        'тому нравится изучать французский'],\n",
       "       ['tomi pystyi hädintuskin kävellä', 'том едва мог идти'],\n",
       "       ['tom on päättänyt lopettaa tupakoinnin',\n",
       "        'том решил бросить курить']], dtype='<U236')"
      ]
     },
     "execution_count": 19,
     "metadata": {},
     "output_type": "execute_result"
    }
   ],
   "source": [
    "train, test = train_test_split(processed_fi_ru, test_size=0.2, random_state=20)\n",
    "train"
   ]
  },
  {
   "cell_type": "markdown",
   "metadata": {},
   "source": [
    "### Prepare train dataset"
   ]
  },
  {
   "cell_type": "code",
   "execution_count": 20,
   "metadata": {
    "collapsed": true
   },
   "outputs": [],
   "source": [
    "trainX = encode_sequences(fi_tokenizer, fi_length, train[:, 0]) \n",
    "trainY = encode_sequences(ru_tokenizer, ru_length, train[:, 1]) "
   ]
  },
  {
   "cell_type": "code",
   "execution_count": 21,
   "metadata": {},
   "outputs": [
    {
     "name": "stdout",
     "output_type": "stream",
     "text": [
      "sanoiko tomi tekevänsä sen\n",
      "[ 2915     4 17099    18     0     0     0     0     0     0     0     0\n",
      "     0     0     0     0     0     0     0     0     0     0     0     0\n",
      "     0     0     0     0     0]\n"
     ]
    }
   ],
   "source": [
    "print(train[:, 0][0])\n",
    "print(trainX[0])"
   ]
  },
  {
   "cell_type": "code",
   "execution_count": 22,
   "metadata": {},
   "outputs": [
    {
     "name": "stdout",
     "output_type": "stream",
     "text": [
      "том сказал что собирается сделать это\n",
      "[   3   63    7 1392   55    6    0    0    0    0    0    0    0    0\n",
      "    0    0    0    0    0    0    0    0    0    0    0    0    0    0\n",
      "    0    0    0    0    0    0    0]\n"
     ]
    }
   ],
   "source": [
    "print(train[:, 1][0])\n",
    "print(trainY[0])"
   ]
  },
  {
   "cell_type": "markdown",
   "metadata": {},
   "source": [
    "### Prepare test dataset"
   ]
  },
  {
   "cell_type": "code",
   "execution_count": 23,
   "metadata": {
    "collapsed": true
   },
   "outputs": [],
   "source": [
    "testX = encode_sequences(fi_tokenizer, fi_length, test[:, 0]) \n",
    "testY = encode_sequences(ru_tokenizer, ru_length, test[:, 1]) "
   ]
  },
  {
   "cell_type": "code",
   "execution_count": 24,
   "metadata": {},
   "outputs": [
    {
     "name": "stdout",
     "output_type": "stream",
     "text": [
      "sinun täytyy korjata se\n",
      "[ 14  40 440   9   0   0   0   0   0   0   0   0   0   0   0   0   0   0\n",
      "   0   0   0   0   0   0   0   0   0   0   0]\n"
     ]
    }
   ],
   "source": [
    "print(test[:, 0][0])\n",
    "print(testX[0])"
   ]
  },
  {
   "cell_type": "code",
   "execution_count": 25,
   "metadata": {},
   "outputs": [
    {
     "name": "stdout",
     "output_type": "stream",
     "text": [
      "вам нужно его починить\n",
      "[ 25  74  26 569   0   0   0   0   0   0   0   0   0   0   0   0   0   0\n",
      "   0   0   0   0   0   0   0   0   0   0   0   0   0   0   0   0   0]\n"
     ]
    }
   ],
   "source": [
    "print(test[:, 1][0])\n",
    "print(testY[0])"
   ]
  },
  {
   "cell_type": "markdown",
   "metadata": {},
   "source": [
    "### Train NMT model"
   ]
  },
  {
   "cell_type": "code",
   "execution_count": 26,
   "metadata": {
    "collapsed": true
   },
   "outputs": [],
   "source": [
    "def build_model(in_vocab, out_vocab, in_timesteps, out_timesteps, n):   \n",
    "    model = Sequential()\n",
    "    model.add(Embedding(in_vocab, n, input_length=in_timesteps,mask_zero=True))\n",
    "    model.add(LSTM(n))\n",
    "    model.add(RepeatVector(out_timesteps))\n",
    "    model.add(LSTM(n, return_sequences=True))\n",
    "    model.add(Dense(out_vocab, activation='softmax'))\n",
    "    return model"
   ]
  },
  {
   "cell_type": "code",
   "execution_count": 27,
   "metadata": {},
   "outputs": [
    {
     "name": "stdout",
     "output_type": "stream",
     "text": [
      "loading existing fi model\n",
      "WARNING:tensorflow:From C:\\Users\\Anton_Glushkov\\AppData\\Local\\Continuum\\anaconda3\\lib\\site-packages\\tensorflow\\python\\keras\\backend.py:3794: add_dispatch_support.<locals>.wrapper (from tensorflow.python.ops.array_ops) is deprecated and will be removed in a future version.\n",
      "Instructions for updating:\n",
      "Use tf.where in 2.0, which has the same broadcast rule as np.where\n",
      "WARNING:tensorflow:From C:\\Users\\Anton_Glushkov\\AppData\\Local\\Continuum\\anaconda3\\lib\\site-packages\\keras\\backend\\tensorflow_backend.py:422: The name tf.global_variables is deprecated. Please use tf.compat.v1.global_variables instead.\n",
      "\n"
     ]
    }
   ],
   "source": [
    "if os.path.exists(FILENAME):\n",
    "    print('loading existing fi model')\n",
    "    model = load_model(FILENAME)\n",
    "else:\n",
    "    model = build_model(fi_vocab_size, ru_vocab_size, fi_length, ru_length, 512)\n",
    "\n",
    "    rms = optimizers.RMSprop(lr=0.001) \n",
    "    model.compile(optimizer=rms, loss='sparse_categorical_crossentropy')"
   ]
  },
  {
   "cell_type": "code",
   "execution_count": 28,
   "metadata": {},
   "outputs": [
    {
     "name": "stdout",
     "output_type": "stream",
     "text": [
      "Train on 39865 samples, validate on 9967 samples\n",
      "Epoch 1/2\n",
      "39865/39865 [==============================] - 1198s 30ms/step - loss: 0.4522 - val_loss: 0.4639\n",
      "\n",
      "Epoch 00001: val_loss improved from inf to 0.46386, saving model to model.fi_ru_11_oct_19_RC1\n",
      "Epoch 2/2\n",
      "39865/39865 [==============================] - 1190s 30ms/step - loss: 0.4199 - val_loss: 0.4647\n",
      "\n",
      "Epoch 00002: val_loss did not improve from 0.46386\n",
      "<keras.callbacks.callbacks.History object at 0x0000020EEEA09CF8>\n"
     ]
    },
    {
     "data": {
      "image/png": "[encoded data removed]",
      "text/plain": [
       "<matplotlib.figure.Figure at 0x20eeea09b70>"
      ]
     },
     "metadata": {},
     "output_type": "display_data"
    }
   ],
   "source": [
    "if NEED_TRAIN:\n",
    "    checkpoint = ModelCheckpoint(FILENAME, monitor='val_loss',  \n",
    "                             verbose=1, save_best_only=True, \n",
    "                             mode='min')\n",
    "    \n",
    "    history = model.fit(trainX, trainY.reshape(trainY.shape[0], trainY.shape[1], 1), \n",
    "                    epochs=EPOCHS, batch_size=512, validation_split = 0.2, \n",
    "                    callbacks=[checkpoint], verbose=1)\n",
    "    \n",
    "    print(history)\n",
    "    \n",
    "    plt.plot(history.history['loss'])\n",
    "    plt.plot(history.history['val_loss'])\n",
    "    plt.legend(['train','validation'])\n",
    "    plt.show()"
   ]
  },
  {
   "cell_type": "code",
   "execution_count": 29,
   "metadata": {
    "collapsed": true
   },
   "outputs": [],
   "source": [
    "def get_word(n, tokenizer):  \n",
    "    for word, index in tokenizer.word_index.items():                       \n",
    "        if index == n: \n",
    "            return word \n",
    "    return None"
   ]
  },
  {
   "cell_type": "code",
   "execution_count": 30,
   "metadata": {
    "collapsed": true
   },
   "outputs": [],
   "source": [
    "def pre_tran(sentence):\n",
    "    sentence = sentence.translate(str.maketrans('', '', string.punctuation))\n",
    "    return sentence.lower()"
   ]
  },
  {
   "cell_type": "code",
   "execution_count": 31,
   "metadata": {
    "collapsed": true
   },
   "outputs": [],
   "source": [
    "def predict(sentence, source_tokenizer, source_len, target_tokenizer, mdl):\n",
    "    sentence = pre_tran(sentence)\n",
    "    source = encode_sequences(source_tokenizer, source_len, array([sentence]))\n",
    "    p = mdl.predict_classes(source)[0]\n",
    "    temp = []\n",
    "    for j in range(len(p)):             \n",
    "        t = get_word(p[j], target_tokenizer)\n",
    "        if j > 0:                 \n",
    "            if (t == get_word(p[j-1], target_tokenizer)) or (t == None):                       \n",
    "                 temp.append('')\n",
    "            else:\n",
    "                 temp.append(t)\n",
    "        else:       \n",
    "            if(t == None):                             \n",
    "                 temp.append('')\n",
    "            else:\n",
    "                 temp.append(t)\n",
    "    return ' '.join(temp).strip()"
   ]
  },
  {
   "cell_type": "code",
   "execution_count": 32,
   "metadata": {
    "collapsed": true
   },
   "outputs": [],
   "source": [
    "def translate_fi_ru(sentence):\n",
    "    return predict(sentence, fi_tokenizer, fi_length, ru_tokenizer, model)"
   ]
  },
  {
   "cell_type": "code",
   "execution_count": 42,
   "metadata": {},
   "outputs": [
    {
     "name": "stdout",
     "output_type": "stream",
     "text": [
      "[  7 354   0   0   0   0   0   0   0   0   0   0   0   0   0   0   0   0\n",
      "   0   0   0   0   0   0   0   0   0   0   0   0   0   0   0   0   0]\n"
     ]
    },
    {
     "data": {
      "text/plain": [
       "'что самом'"
      ]
     },
     "execution_count": 42,
     "metadata": {},
     "output_type": "execute_result"
    }
   ],
   "source": [
    "translate_fi_ru('Ihanko oikeesti')"
   ]
  },
  {
   "cell_type": "markdown",
   "metadata": {},
   "source": [
    "# RU - FI Model"
   ]
  },
  {
   "cell_type": "code",
   "execution_count": 34,
   "metadata": {
    "collapsed": true
   },
   "outputs": [],
   "source": [
    "ru_train_x = encode_sequences(ru_tokenizer, ru_length, train[:, 1]) \n",
    "ru_train_y = encode_sequences(fi_tokenizer, fi_length, train[:, 0]) "
   ]
  },
  {
   "cell_type": "code",
   "execution_count": 35,
   "metadata": {
    "collapsed": true
   },
   "outputs": [],
   "source": [
    "ru_test_x = encode_sequences(ru_tokenizer, ru_length, test[:, 1]) \n",
    "ru_test_y = encode_sequences(fi_tokenizer, fi_length, test[:, 0]) "
   ]
  },
  {
   "cell_type": "code",
   "execution_count": 36,
   "metadata": {},
   "outputs": [
    {
     "name": "stdout",
     "output_type": "stream",
     "text": [
      "loading existing ru model\n"
     ]
    }
   ],
   "source": [
    "if os.path.exists(FILENAME_RU):\n",
    "    print('loading existing ru model')\n",
    "    model_ru = load_model(FILENAME_RU)\n",
    "else:\n",
    "    model_ru = build_model(ru_vocab_size, fi_vocab_size, ru_length, fi_length, 512)\n",
    "\n",
    "    rms = optimizers.RMSprop(lr=0.001) \n",
    "    model_ru.compile(optimizer=rms, loss='sparse_categorical_crossentropy')"
   ]
  },
  {
   "cell_type": "code",
   "execution_count": 37,
   "metadata": {},
   "outputs": [
    {
     "name": "stdout",
     "output_type": "stream",
     "text": [
      "Train on 39865 samples, validate on 9967 samples\n",
      "Epoch 1/2\n",
      "39865/39865 [==============================] - 1136s 29ms/step - loss: 0.6080 - val_loss: 0.6164\n",
      "\n",
      "Epoch 00001: val_loss improved from inf to 0.61636, saving model to model.ru_fi_28_oct\n",
      "Epoch 2/2\n",
      "39865/39865 [==============================] - 1139s 29ms/step - loss: 0.5665 - val_loss: 0.6138\n",
      "\n",
      "Epoch 00002: val_loss improved from 0.61636 to 0.61375, saving model to model.ru_fi_28_oct\n",
      "<keras.callbacks.callbacks.History object at 0x0000020E87D23C18>\n"
     ]
    },
    {
     "data": {
      "image/png": "[encoded data removed]",
      "text/plain": [
       "<matplotlib.figure.Figure at 0x20e87d02f28>"
      ]
     },
     "metadata": {},
     "output_type": "display_data"
    }
   ],
   "source": [
    "if NEED_TRAIN_RU:\n",
    "    checkpoint_ru = ModelCheckpoint(FILENAME_RU, monitor='val_loss',  \n",
    "                             verbose=1, save_best_only=True, \n",
    "                             mode='min')\n",
    "    \n",
    "    history = model_ru.fit(ru_train_x, ru_train_y.reshape(ru_train_y.shape[0], ru_train_y.shape[1], 1), \n",
    "                    epochs=EPOCHS, batch_size=512, validation_split = 0.2, \n",
    "                    callbacks=[checkpoint_ru], verbose=1)\n",
    "    \n",
    "    print(history)\n",
    "    \n",
    "    plt.plot(history.history['loss'])\n",
    "    plt.plot(history.history['val_loss'])\n",
    "    plt.legend(['train','validation'])\n",
    "    plt.show()"
   ]
  },
  {
   "cell_type": "code",
   "execution_count": 38,
   "metadata": {
    "collapsed": true
   },
   "outputs": [],
   "source": [
    "def translate_ru_fi(sentence):\n",
    "    return predict(sentence, ru_tokenizer, ru_length, fi_tokenizer, model_ru)"
   ]
  },
  {
   "cell_type": "code",
   "execution_count": 39,
   "metadata": {},
   "outputs": [
    {
     "name": "stdout",
     "output_type": "stream",
     "text": [
      "[135   8   2   2   0   0   0   0   0   0   0   0   0   0   0   0   0   0\n",
      "   0   0   0   0   0   0   0   0   0   0   0]\n"
     ]
    },
    {
     "data": {
      "text/plain": [
       "'luulen että tom'"
      ]
     },
     "execution_count": 39,
     "metadata": {},
     "output_type": "execute_result"
    }
   ],
   "source": [
    "translate_ru_fi('Думаю, Том тебя боится')"
   ]
  },
  {
   "cell_type": "code",
   "execution_count": 40,
   "metadata": {},
   "outputs": [
    {
     "name": "stdout",
     "output_type": "stream",
     "text": [
      "[  26   35 5397    0    0    0    0    0    0    0    0    0    0    0\n",
      "    0    0    0    0    0    0    0    0    0    0    0    0    0    0\n",
      "    0]\n"
     ]
    },
    {
     "data": {
      "text/plain": [
       "'älä voi palauttaa'"
      ]
     },
     "execution_count": 40,
     "metadata": {},
     "output_type": "execute_result"
    }
   ],
   "source": [
    "translate_ru_fi('Давай не будем тратить время на споры')"
   ]
  },
  {
   "cell_type": "code",
   "execution_count": 41,
   "metadata": {},
   "outputs": [
    {
     "name": "stdout",
     "output_type": "stream",
     "text": [
      "[619   0   0   0   0   0   0   0   0   0   0   0   0   0   0   0   0   0\n",
      "   0   0   0   0   0   0   0   0   0   0   0]\n"
     ]
    },
    {
     "data": {
      "text/plain": [
       "'ala'"
      ]
     },
     "execution_count": 41,
     "metadata": {},
     "output_type": "execute_result"
    }
   ],
   "source": [
    "translate_ru_fi('привет')"
   ]
  },
  {
   "cell_type": "code",
   "execution_count": null,
   "metadata": {
    "collapsed": true
   },
   "outputs": [],
   "source": []
  }
 ],
 "metadata": {
  "kernelspec": {
   "display_name": "Python 3",
   "language": "python",
   "name": "python3"
  },
  "language_info": {
   "codemirror_mode": {
    "name": "ipython",
    "version": 3
   },
   "file_extension": ".py",
   "mimetype": "text/x-python",
   "name": "python",
   "nbconvert_exporter": "python",
   "pygments_lexer": "ipython3",
   "version": "3.6.3"
  }
 },
 "nbformat": 4,
 "nbformat_minor": 2
}
