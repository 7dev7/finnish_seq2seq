{
 "cells": [
  {
   "cell_type": "code",
   "execution_count": 46,
   "metadata": {},
   "outputs": [
    {
     "name": "stderr",
     "output_type": "stream",
     "text": [
      "[nltk_data] Downloading package punkt to /Users/anton/nltk_data...\n",
      "[nltk_data]   Package punkt is already up-to-date!\n"
     ]
    },
    {
     "data": {
      "text/plain": [
       "True"
      ]
     },
     "execution_count": 46,
     "metadata": {},
     "output_type": "execute_result"
    }
   ],
   "source": [
    "import string\n",
    "import os.path\n",
    "from numpy import array\n",
    "import pandas as pd\n",
    "import matplotlib.pyplot as plt\n",
    "import nltk\n",
    "from keras.models import Sequential\n",
    "from keras.layers import Dense, LSTM, Embedding, RepeatVector\n",
    "from keras.preprocessing.text import Tokenizer\n",
    "from keras.callbacks import ModelCheckpoint\n",
    "from keras.preprocessing.sequence import pad_sequences\n",
    "from keras.models import load_model\n",
    "from keras import optimizers\n",
    "from sklearn.model_selection import train_test_split\n",
    "%matplotlib inline\n",
    "pd.set_option('display.max_colwidth', 200)\n",
    "nltk.download('punkt')"
   ]
  },
  {
   "cell_type": "markdown",
   "metadata": {},
   "source": [
    "### Configs"
   ]
  },
  {
   "cell_type": "code",
   "execution_count": 47,
   "metadata": {},
   "outputs": [],
   "source": [
    "NEED_TRAIN = False\n",
    "FI_FILENAME = 'fin.txt'\n",
    "EPOCHS = 30\n",
    "FILENAME = \"model.09_oct_19\""
   ]
  },
  {
   "cell_type": "markdown",
   "metadata": {},
   "source": [
    "# Loading data"
   ]
  },
  {
   "cell_type": "code",
   "execution_count": 48,
   "metadata": {},
   "outputs": [],
   "source": [
    "def read_file(filename):\n",
    "    with open(filename, mode='rt', encoding='utf-8') as file:\n",
    "        content = file.read()\n",
    "        return content"
   ]
  },
  {
   "cell_type": "code",
   "execution_count": 49,
   "metadata": {},
   "outputs": [],
   "source": [
    "def parse_content(content):\n",
    "    lines = content.strip().split('\\n')\n",
    "    lines = [list(reversed(i.split('\\t'))) for i in lines]\n",
    "    return lines"
   ]
  },
  {
   "cell_type": "code",
   "execution_count": 50,
   "metadata": {},
   "outputs": [],
   "source": [
    "fi_en = array(parse_content(read_file(FI_FILENAME)))[:55000,:]"
   ]
  },
  {
   "cell_type": "code",
   "execution_count": 51,
   "metadata": {},
   "outputs": [
    {
     "data": {
      "text/plain": [
       "array([['Mene.', 'Go.'],\n",
       "       ['Moro!', 'Hi.'],\n",
       "       ['Terve.', 'Hi.'],\n",
       "       ...,\n",
       "       ['Suuri mullistus on tapahtunut teknologiassa.',\n",
       "        'A great revolution has taken place in technology.'],\n",
       "       ['Ryhmä ulkomaalaisia saapui Edoon, toisin sanoen Tokioon.',\n",
       "        'A group of foreigners arrived in Edo, i.e. Tokyo.'],\n",
       "       ['Tom niminen tyyppi etsi sinua tänä aamuna.',\n",
       "        'A guy named Tom was looking for you this morning.']],\n",
       "      dtype='<U345')"
      ]
     },
     "execution_count": 51,
     "metadata": {},
     "output_type": "execute_result"
    }
   ],
   "source": [
    "fi_en"
   ]
  },
  {
   "cell_type": "markdown",
   "metadata": {},
   "source": [
    "# Content pre-processing"
   ]
  },
  {
   "cell_type": "code",
   "execution_count": 52,
   "metadata": {},
   "outputs": [],
   "source": [
    "def remove_punctuations(dataset):\n",
    "    dataset[:,0] = [s.translate(str.maketrans('', '', string.punctuation)) for s in dataset[:,0]]\n",
    "    dataset[:,1] = [s.translate(str.maketrans('', '', string.punctuation)) for s in dataset[:,1]]\n",
    "    return dataset"
   ]
  },
  {
   "cell_type": "code",
   "execution_count": 53,
   "metadata": {},
   "outputs": [],
   "source": [
    "def to_lower_case(dataset):\n",
    "    for i in range(len(dataset)): \n",
    "        dataset[i,0] = dataset[i,0].lower() \n",
    "        dataset[i,1] = dataset[i,1].lower()\n",
    "    return dataset"
   ]
  },
  {
   "cell_type": "code",
   "execution_count": 54,
   "metadata": {},
   "outputs": [],
   "source": [
    "def pre_process(dataset):\n",
    "    without_punctuations = remove_punctuations(dataset)\n",
    "    return to_lower_case(without_punctuations)"
   ]
  },
  {
   "cell_type": "code",
   "execution_count": 55,
   "metadata": {},
   "outputs": [
    {
     "data": {
      "text/plain": [
       "array([['mene', 'go'],\n",
       "       ['moro', 'hi'],\n",
       "       ['terve', 'hi'],\n",
       "       ...,\n",
       "       ['suuri mullistus on tapahtunut teknologiassa',\n",
       "        'a great revolution has taken place in technology'],\n",
       "       ['ryhmä ulkomaalaisia saapui edoon toisin sanoen tokioon',\n",
       "        'a group of foreigners arrived in edo ie tokyo'],\n",
       "       ['tom niminen tyyppi etsi sinua tänä aamuna',\n",
       "        'a guy named tom was looking for you this morning']],\n",
       "      dtype='<U345')"
      ]
     },
     "execution_count": 55,
     "metadata": {},
     "output_type": "execute_result"
    }
   ],
   "source": [
    "processed_fi_en = pre_process(fi_en)\n",
    "processed_fi_en"
   ]
  },
  {
   "cell_type": "code",
   "execution_count": 56,
   "metadata": {},
   "outputs": [
    {
     "data": {
      "text/plain": [
       "array(['go', 'hi', 'hi', ...,\n",
       "       'a great revolution has taken place in technology',\n",
       "       'a group of foreigners arrived in edo ie tokyo',\n",
       "       'a guy named tom was looking for you this morning'], dtype='<U345')"
      ]
     },
     "execution_count": 56,
     "metadata": {},
     "output_type": "execute_result"
    }
   ],
   "source": [
    "en_sentences = processed_fi_en[:,1]\n",
    "en_sentences"
   ]
  },
  {
   "cell_type": "code",
   "execution_count": 57,
   "metadata": {},
   "outputs": [
    {
     "data": {
      "text/plain": [
       "array(['mene', 'moro', 'terve', ...,\n",
       "       'suuri mullistus on tapahtunut teknologiassa',\n",
       "       'ryhmä ulkomaalaisia saapui edoon toisin sanoen tokioon',\n",
       "       'tom niminen tyyppi etsi sinua tänä aamuna'], dtype='<U345')"
      ]
     },
     "execution_count": 57,
     "metadata": {},
     "output_type": "execute_result"
    }
   ],
   "source": [
    "fi_sentences = processed_fi_en[:,0]\n",
    "fi_sentences"
   ]
  },
  {
   "cell_type": "markdown",
   "metadata": {},
   "source": [
    "# Tokenizers"
   ]
  },
  {
   "cell_type": "markdown",
   "metadata": {},
   "source": [
    "### Populate the lists with sentence lengths "
   ]
  },
  {
   "cell_type": "code",
   "execution_count": 58,
   "metadata": {},
   "outputs": [],
   "source": [
    "def get_words(sentence):\n",
    "    return nltk.word_tokenize(sentence)"
   ]
  },
  {
   "cell_type": "code",
   "execution_count": 59,
   "metadata": {},
   "outputs": [
    {
     "data": {
      "image/png": "[encoded data removed]",
      "text/plain": [
       "<Figure size 432x288 with 2 Axes>"
      ]
     },
     "metadata": {
      "needs_background": "light"
     },
     "output_type": "display_data"
    }
   ],
   "source": [
    "en_l = [len(get_words(i)) for i in en_sentences]\n",
    "fi_l = [len(get_words(i)) for i in fi_sentences]\n",
    "        \n",
    "length_df = pd.DataFrame({'en':en_l, 'fi':fi_l}) \n",
    "length_df.hist(bins = 30) \n",
    "plt.show()"
   ]
  },
  {
   "cell_type": "code",
   "execution_count": 60,
   "metadata": {},
   "outputs": [],
   "source": [
    "def tokenization(lines): \n",
    "    tokenizer = Tokenizer()\n",
    "    tokenizer.fit_on_texts(lines)\n",
    "    return tokenizer"
   ]
  },
  {
   "cell_type": "markdown",
   "metadata": {},
   "source": [
    "### Prepare tokenizers"
   ]
  },
  {
   "cell_type": "code",
   "execution_count": 61,
   "metadata": {},
   "outputs": [
    {
     "data": {
      "text/plain": [
       "13"
      ]
     },
     "execution_count": 61,
     "metadata": {},
     "output_type": "execute_result"
    }
   ],
   "source": [
    "en_tokenizer = tokenization(en_sentences)\n",
    "en_vocab_size = len(en_tokenizer.word_index) + 1\n",
    "en_length = max(en_l)\n",
    "en_length"
   ]
  },
  {
   "cell_type": "code",
   "execution_count": 62,
   "metadata": {},
   "outputs": [
    {
     "data": {
      "text/plain": [
       "14"
      ]
     },
     "execution_count": 62,
     "metadata": {},
     "output_type": "execute_result"
    }
   ],
   "source": [
    "fi_tokenizer = tokenization(fi_sentences)\n",
    "fi_vocab_size = len(fi_tokenizer.word_index) + 1\n",
    "fi_length = max(fi_l)\n",
    "fi_length"
   ]
  },
  {
   "cell_type": "code",
   "execution_count": 63,
   "metadata": {},
   "outputs": [],
   "source": [
    "def encode_sequences(tokenizer, length, lines):          \n",
    "    # integer encode sequences\n",
    "    seq = tokenizer.texts_to_sequences(lines)      \n",
    "    # pad sequences with 0 values\n",
    "    seq = pad_sequences(seq, maxlen=length, padding='post')        \n",
    "    return seq"
   ]
  },
  {
   "cell_type": "markdown",
   "metadata": {},
   "source": [
    "# FI - EN Model"
   ]
  },
  {
   "cell_type": "code",
   "execution_count": 64,
   "metadata": {},
   "outputs": [
    {
     "data": {
      "text/plain": [
       "array([['tomilla on ankara päänsärky', 'tom has a severe headache'],\n",
       "       ['onpa tänään kylmä', 'it sure is cold today'],\n",
       "       ['voisitko vastata puhelimeen', 'answer the telephone will you'],\n",
       "       ...,\n",
       "       ['minkäikäinen teidän siskonne on', 'how old is your sister'],\n",
       "       ['osaatko laskea kiinaksi kymmeneen',\n",
       "        'can you count to ten in chinese'],\n",
       "       ['he kuolivat taistelussa', 'they died in battle']], dtype='<U345')"
      ]
     },
     "execution_count": 64,
     "metadata": {},
     "output_type": "execute_result"
    }
   ],
   "source": [
    "train, test = train_test_split(processed_fi_en, test_size=0.3, random_state= 12)\n",
    "train"
   ]
  },
  {
   "cell_type": "markdown",
   "metadata": {},
   "source": [
    "### Prepare train dataset"
   ]
  },
  {
   "cell_type": "code",
   "execution_count": 65,
   "metadata": {},
   "outputs": [],
   "source": [
    "trainX = encode_sequences(fi_tokenizer, fi_length, train[:, 0]) \n",
    "trainY = encode_sequences(en_tokenizer, en_length, train[:, 1]) "
   ]
  },
  {
   "cell_type": "code",
   "execution_count": 66,
   "metadata": {},
   "outputs": [
    {
     "name": "stdout",
     "output_type": "stream",
     "text": [
      "tomilla on ankara päänsärky\n",
      "[  32    1 2242 5627    0    0    0    0    0    0    0    0    0    0]\n"
     ]
    }
   ],
   "source": [
    "print(train[:, 0][0])\n",
    "print(trainX[0])"
   ]
  },
  {
   "cell_type": "code",
   "execution_count": 67,
   "metadata": {},
   "outputs": [
    {
     "name": "stdout",
     "output_type": "stream",
     "text": [
      "tom has a severe headache\n",
      "[   1   38    6 3428 1185    0    0    0    0    0    0    0    0]\n"
     ]
    }
   ],
   "source": [
    "print(train[:, 1][0])\n",
    "print(trainY[0])"
   ]
  },
  {
   "cell_type": "markdown",
   "metadata": {},
   "source": [
    "### Prepare test dataset"
   ]
  },
  {
   "cell_type": "code",
   "execution_count": 68,
   "metadata": {},
   "outputs": [],
   "source": [
    "testX = encode_sequences(fi_tokenizer, fi_length, test[:, 0]) \n",
    "testY = encode_sequences(en_tokenizer, en_length, test[:, 1]) "
   ]
  },
  {
   "cell_type": "code",
   "execution_count": 69,
   "metadata": {},
   "outputs": [
    {
     "name": "stdout",
     "output_type": "stream",
     "text": [
      "olen ikuinen optimisti\n",
      "[   11 14739  4571     0     0     0     0     0     0     0     0     0\n",
      "     0     0]\n"
     ]
    }
   ],
   "source": [
    "print(test[:, 0][0])\n",
    "print(testX[0])"
   ]
  },
  {
   "cell_type": "code",
   "execution_count": 70,
   "metadata": {},
   "outputs": [
    {
     "name": "stdout",
     "output_type": "stream",
     "text": [
      "im always optimistic\n",
      "[ 20 160 777   0   0   0   0   0   0   0   0   0   0]\n"
     ]
    }
   ],
   "source": [
    "print(test[:, 1][0])\n",
    "print(testY[0])"
   ]
  },
  {
   "cell_type": "markdown",
   "metadata": {},
   "source": [
    "### Train NMT model"
   ]
  },
  {
   "cell_type": "code",
   "execution_count": 71,
   "metadata": {},
   "outputs": [],
   "source": [
    "def build_model(in_vocab,out_vocab, in_timesteps,out_timesteps,n):   \n",
    "    model = Sequential()\n",
    "    model.add(Embedding(in_vocab, n, input_length=in_timesteps,mask_zero=True))\n",
    "    model.add(LSTM(n))\n",
    "    model.add(RepeatVector(out_timesteps))\n",
    "    model.add(LSTM(n, return_sequences=True))\n",
    "    model.add(Dense(out_vocab, activation='softmax'))\n",
    "    return model"
   ]
  },
  {
   "cell_type": "code",
   "execution_count": 72,
   "metadata": {},
   "outputs": [
    {
     "name": "stdout",
     "output_type": "stream",
     "text": [
      "loading existing model\n"
     ]
    }
   ],
   "source": [
    "if os.path.exists(FILENAME):\n",
    "    print('loading existing model')\n",
    "    model = load_model(FILENAME)\n",
    "else:\n",
    "    model = build_model(fi_vocab_size, en_vocab_size, fi_length, en_length, 512)\n",
    "\n",
    "    rms = optimizers.RMSprop(lr=0.001) \n",
    "    model.compile(optimizer=rms, loss='sparse_categorical_crossentropy')"
   ]
  },
  {
   "cell_type": "code",
   "execution_count": 73,
   "metadata": {},
   "outputs": [],
   "source": [
    "if NEED_TRAIN:\n",
    "    checkpoint = ModelCheckpoint(FILENAME, monitor='val_loss',  \n",
    "                             verbose=1, save_best_only=True, \n",
    "                             mode='min')\n",
    "    \n",
    "    history = model.fit(trainX, trainY.reshape(trainY.shape[0], trainY.shape[1], 1), \n",
    "                    epochs=EPOCHS, batch_size=512, validation_split = 0.3, \n",
    "                    callbacks=[checkpoint], verbose=1)\n",
    "    \n",
    "    print(history)\n",
    "    \n",
    "    plt.plot(history.history['loss'])\n",
    "    plt.plot(history.history['val_loss'])\n",
    "    plt.legend(['train','validation'])\n",
    "    plt.show()"
   ]
  },
  {
   "cell_type": "code",
   "execution_count": 74,
   "metadata": {},
   "outputs": [],
   "source": [
    "def get_word(n, tokenizer):  \n",
    "    for word, index in tokenizer.word_index.items():                       \n",
    "        if index == n: \n",
    "            return word \n",
    "    return None"
   ]
  },
  {
   "cell_type": "code",
   "execution_count": 75,
   "metadata": {},
   "outputs": [],
   "source": [
    "def pre_tran(sentence):\n",
    "    sentence = sentence.translate(str.maketrans('', '', string.punctuation))\n",
    "    return sentence.lower()"
   ]
  },
  {
   "cell_type": "code",
   "execution_count": 76,
   "metadata": {},
   "outputs": [],
   "source": [
    "def predict(sentence, source_tokenizer, source_len, target_tokenizer):\n",
    "    sentence = pre_tran(sentence)\n",
    "    source = encode_sequences(source_tokenizer, source_len, array([sentence])) \n",
    "    p = model.predict_classes(source)[0]\n",
    "    temp = []\n",
    "    for j in range(len(p)):             \n",
    "        t = get_word(p[j], target_tokenizer)             \n",
    "        if j > 0:                 \n",
    "            if (t == get_word(p[j-1], target_tokenizer)) or (t == None):                       \n",
    "                 temp.append('')                 \n",
    "            else:                      \n",
    "                 temp.append(t)             \n",
    "        else:                    \n",
    "            if(t == None):                                   \n",
    "                 temp.append('')                    \n",
    "            else:                           \n",
    "                 temp.append(t)\n",
    "    return ' '.join(temp).strip()"
   ]
  },
  {
   "cell_type": "code",
   "execution_count": 77,
   "metadata": {},
   "outputs": [],
   "source": [
    "def translate_fi_en(sentence):\n",
    "    return predict(sentence, fi_tokenizer, fi_length, en_tokenizer)"
   ]
  },
  {
   "cell_type": "code",
   "execution_count": 78,
   "metadata": {},
   "outputs": [
    {
     "data": {
      "text/plain": [
       "'call the doctor'"
      ]
     },
     "execution_count": 78,
     "metadata": {},
     "output_type": "execute_result"
    }
   ],
   "source": [
    "translate_fi_en('Soita lääkärille.')"
   ]
  },
  {
   "cell_type": "code",
   "execution_count": 79,
   "metadata": {},
   "outputs": [
    {
     "data": {
      "text/plain": [
       "'jump'"
      ]
     },
     "execution_count": 79,
     "metadata": {},
     "output_type": "execute_result"
    }
   ],
   "source": [
    "translate_fi_en('Hypätkää')"
   ]
  },
  {
   "cell_type": "code",
   "execution_count": 38,
   "metadata": {},
   "outputs": [],
   "source": [
    "preds = model.predict_classes(testX.reshape((testX.shape[0], testX.shape[1])))"
   ]
  },
  {
   "cell_type": "code",
   "execution_count": 40,
   "metadata": {},
   "outputs": [],
   "source": [
    "preds_text = [] \n",
    "for i in preds:        \n",
    "    temp = []        \n",
    "    for j in range(len(i)):             \n",
    "        t = get_word(i[j], en_tokenizer)             \n",
    "        if j > 0:                 \n",
    "            if (t==get_word(i[j-1],en_tokenizer))or(t== None):                       \n",
    "                 temp.append('')                 \n",
    "            else:                      \n",
    "                 temp.append(t)             \n",
    "        else:                    \n",
    "            if(t == None):                                   \n",
    "                 temp.append('')                    \n",
    "            else:                           \n",
    "                 temp.append(t)        \n",
    "    preds_text.append(' '.join(temp))"
   ]
  },
  {
   "cell_type": "code",
   "execution_count": 81,
   "metadata": {},
   "outputs": [],
   "source": [
    "pred_df = pd.DataFrame({'source': test[:,0], 'actual' : test[:,1], 'predicted' : preds_text})"
   ]
  },
  {
   "cell_type": "code",
   "execution_count": 93,
   "metadata": {},
   "outputs": [
    {
     "data": {
      "text/html": [
       "<div>\n",
       "<style scoped>\n",
       "    .dataframe tbody tr th:only-of-type {\n",
       "        vertical-align: middle;\n",
       "    }\n",
       "\n",
       "    .dataframe tbody tr th {\n",
       "        vertical-align: top;\n",
       "    }\n",
       "\n",
       "    .dataframe thead th {\n",
       "        text-align: right;\n",
       "    }\n",
       "</style>\n",
       "<table border=\"1\" class=\"dataframe\">\n",
       "  <thead>\n",
       "    <tr style=\"text-align: right;\">\n",
       "      <th></th>\n",
       "      <th>source</th>\n",
       "      <th>actual</th>\n",
       "      <th>predicted</th>\n",
       "    </tr>\n",
       "  </thead>\n",
       "  <tbody>\n",
       "    <tr>\n",
       "      <th>10717</th>\n",
       "      <td>hän on kiva</td>\n",
       "      <td>hes a kind person</td>\n",
       "      <td>he is kind person</td>\n",
       "    </tr>\n",
       "    <tr>\n",
       "      <th>15329</th>\n",
       "      <td>tomin vaatteet ovat epämuodikkaat</td>\n",
       "      <td>toms clothes are out of fashion</td>\n",
       "      <td>toms clothes are in of fashion</td>\n",
       "    </tr>\n",
       "    <tr>\n",
       "      <th>7988</th>\n",
       "      <td>menimme kävelylle metsään</td>\n",
       "      <td>we went for a walk in the forest</td>\n",
       "      <td>we went at a hotel a</td>\n",
       "    </tr>\n",
       "    <tr>\n",
       "      <th>1726</th>\n",
       "      <td>en tylsistytä sinua yksityiskohdilla</td>\n",
       "      <td>i wont bore you with the details</td>\n",
       "      <td>i dont think you with my</td>\n",
       "    </tr>\n",
       "    <tr>\n",
       "      <th>14746</th>\n",
       "      <td>jonnekin meidän pitää vetää raja</td>\n",
       "      <td>we have to draw a line somewhere</td>\n",
       "      <td>we need to improve a stamps</td>\n",
       "    </tr>\n",
       "    <tr>\n",
       "      <th>6194</th>\n",
       "      <td>otin lainaksi tomin auton</td>\n",
       "      <td>i borrowed toms car</td>\n",
       "      <td>i bought my car</td>\n",
       "    </tr>\n",
       "    <tr>\n",
       "      <th>2256</th>\n",
       "      <td>pystyt pian hiihtämään hyvin</td>\n",
       "      <td>you will soon be able to ski well</td>\n",
       "      <td>i can see but fast well</td>\n",
       "    </tr>\n",
       "    <tr>\n",
       "      <th>10028</th>\n",
       "      <td>mene kotiin</td>\n",
       "      <td>please go home</td>\n",
       "      <td>go home</td>\n",
       "    </tr>\n",
       "    <tr>\n",
       "      <th>11671</th>\n",
       "      <td>ranskalaiset pitävät etanoista</td>\n",
       "      <td>the french like to eat snails</td>\n",
       "      <td>your french is to a pilot</td>\n",
       "    </tr>\n",
       "    <tr>\n",
       "      <th>370</th>\n",
       "      <td>minä löydän ne</td>\n",
       "      <td>ill find them</td>\n",
       "      <td>ill pay them</td>\n",
       "    </tr>\n",
       "  </tbody>\n",
       "</table>\n",
       "</div>"
      ],
      "text/plain": [
       "                                     source  \\\n",
       "10717                           hän on kiva   \n",
       "15329     tomin vaatteet ovat epämuodikkaat   \n",
       "7988              menimme kävelylle metsään   \n",
       "1726   en tylsistytä sinua yksityiskohdilla   \n",
       "14746      jonnekin meidän pitää vetää raja   \n",
       "6194              otin lainaksi tomin auton   \n",
       "2256           pystyt pian hiihtämään hyvin   \n",
       "10028                           mene kotiin   \n",
       "11671        ranskalaiset pitävät etanoista   \n",
       "370                          minä löydän ne   \n",
       "\n",
       "                                  actual  \\\n",
       "10717                  hes a kind person   \n",
       "15329    toms clothes are out of fashion   \n",
       "7988    we went for a walk in the forest   \n",
       "1726    i wont bore you with the details   \n",
       "14746   we have to draw a line somewhere   \n",
       "6194                 i borrowed toms car   \n",
       "2256   you will soon be able to ski well   \n",
       "10028                     please go home   \n",
       "11671      the french like to eat snails   \n",
       "370                        ill find them   \n",
       "\n",
       "                                   predicted  \n",
       "10717             he is kind person           \n",
       "15329  toms clothes are in of fashion         \n",
       "7988             we went at a hotel a         \n",
       "1726         i dont think you with my         \n",
       "14746     we need to improve a stamps         \n",
       "6194                i bought my car           \n",
       "2256          i can see but fast well         \n",
       "10028                     go home             \n",
       "11671       your french is to a pilot         \n",
       "370                   ill pay them            "
      ]
     },
     "execution_count": 93,
     "metadata": {},
     "output_type": "execute_result"
    }
   ],
   "source": [
    "pred_df.sample(10)"
   ]
  }
 ],
 "metadata": {
  "kernelspec": {
   "display_name": "Python 3",
   "language": "python",
   "name": "python3"
  },
  "language_info": {
   "codemirror_mode": {
    "name": "ipython",
    "version": 3
   },
   "file_extension": ".py",
   "mimetype": "text/x-python",
   "name": "python",
   "nbconvert_exporter": "python",
   "pygments_lexer": "ipython3",
   "version": "3.7.0"
  }
 },
 "nbformat": 4,
 "nbformat_minor": 2
}
